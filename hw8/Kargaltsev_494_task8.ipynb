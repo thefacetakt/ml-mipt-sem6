{
 "cells": [
  {
   "cell_type": "markdown",
   "metadata": {},
   "source": [
    "<span style=\"font-size: 14pt\">Домашнее задание №8 </span>\n",
    "\n",
    "<span style=\"color: red; font-size: 14pt\">Deadline: 20.05.2017 23:59:59</span>\n",
    "\n",
    "<span style=\"font-size: 10pt\">ФИВТ, АПТ, Курс по машинному обучению, Весна 2017, Модуль Unspervised Learning, </span>\n",
    "\n",
    "<span style=\"color:blue; font-size: 10pt\">Alexey Romanenko, </span>\n",
    "<span style=\"color:blue; font-size: 10pt; font-family: 'Verdana'\">alexromsput@gmail.com</span>\n"
   ]
  },
  {
   "cell_type": "markdown",
   "metadata": {},
   "source": [
    "<h1 align=\"center\">Organization Info</h1> "
   ]
  },
  {
   "cell_type": "markdown",
   "metadata": {},
   "source": [
    "**Дополнительный материал для выполнения дз**:\n",
    "- Воронцов К. В. Математические методы обучения по прецедентам. 2012. http://www.machinelearning.ru/wiki/images/6/6d/Voron-ML-1.pdf (разделы 5.2 и 7.1)\n",
    "- Hastie T., Tibshirani R., Friedman J. The Elements of Statistical Learning. Springer: Data Mining, Inference, and Prediction.  — 2nd ed. — Springer-Verlag. 2009. — 746 p.http://statweb.stanford.edu/~tibs/ElemStatLearn/printings/ESLII_print10.pdf (глава 14)\n",
    "\n",
    "\n",
    "\n",
    "**Оформление дз**: \n",
    "- Присылайте выполненное задание на почту ``ml.course.mipt@gmail.com``\n",
    "- Укажите тему письма в следующем формате ``ML2017_fall <номер_группы> <фамилия>``, к примеру -- ``ML2017_fall 496 ivanov``\n",
    "- Выполненное дз сохраните в файл ``<фамилия>_<группа>_task<номер задания>.ipnb``, к примеру -- ``ML2017_496_task1.ipnb``\n",
    "\n",
    "**Вопросы**:\n",
    "- Присылайте вопросы на почту ``ml.course.mipt@gmail.com``\n",
    "- Укажите тему письма в следующем формате ``ML2016_fall Question <Содержание вопроса>``\n",
    "\n",
    "--------\n",
    "- **PS1**: Используются автоматические фильтры, и просто не найдем ваше дз, если вы не аккуратно его подпишите.\n",
    "- **PS2**: Дедлайн жесткий, в том числе помтоу что это ДЗ последнее в курсе. "
   ]
  },
  {
   "cell_type": "markdown",
   "metadata": {},
   "source": [
    "<h1 align=\"center\">Контрольные вопросы (0 % - для самоконтроля) </h1> "
   ]
  },
  {
   "cell_type": "markdown",
   "metadata": {},
   "source": [
    "Ответе на вопросы своими словами (загугленный материал надо пересказать), ответ обоснуйте (напишите и ОБЪЯСНИТЕ формулки если потребуется), если не выходит, то вернитесь к лекции дополнительным материалам:\n",
    "\n",
    "**Вопрос 1**: В чём заключается проблема мультиколлинеарности?\n",
    "\n",
    "Когда признаки [почти] коллинеарны, определитель матрицы $X^TX$ становится маленьким, из-за чего а) можно напороться на больший числа при обращении матрицы и огрести проблем с точностью и прочими вычислительными радостями, 2) уменьшается устойчивость модели.\n",
    "\n",
    "Все это скорее относится к линейным моделям.\n",
    "\n",
    "**Вопрос 2**: Какие проблемы при обучении алгоритмов возникают из-за большой размерности пространства признаков?\n",
    "\n",
    "Выше шанс словить мультиколлинеарность, проклятие размерности (см ниже), неинтерпретируемость, дороже вычислительно.\n",
    "\n",
    "**Вопрос 3**: В чем суть проклятия размерности?\n",
    "\n",
    "При увеличении размерности, расстояния во всех парах объектов стремятся к одному и тому же значению по УЗБЧ, что плохо, если мы используем метрические алгоритмы (или какие-нибудь ядра, зависящие от расстояний)\n",
    "\n",
    "** Вопрос 4**: Какая связь между решением задачи PCA и SVD-разложение матрицы регрессии?\n",
    "\n",
    "Пусть $X^TX = VDU^T$ -- $SVD$ разложение. Тогда новые признаки, выделенные PCA, есть проекция старых на столбцы $V$, отвечающие максимальным собственным значениям (столбцы $V$ --- собственные вектора)\n",
    "\n",
    "** Вопрос 5**: Почему в tSNE расстояние между парамми объектов измеряется \"по-стьюденту\" и как это помогает решить проблему \"скрученности\" (crowding problem)?\n",
    "\n",
    "\n",
    "Потому что распредление Стьюдента (в целом, а с параметром 1 тем более) имеет более тяжелые хвосты $\\Rightarrow$ меньше штрафует за далекие расстояния между объектами.\n",
    "\n",
    "\n",
    "**Вопрос 6**: На какой идее базируются алгоритмы аггломеративной кластеризации? Напишите формулу Ланса-Вильма\n",
    "\n",
    "Видимо, на идее, что у нас есть иерархия кластеров, и большие кластеры собраны их меньших\n",
    "\n",
    "$R(U \\cup V, S) = \\alpha_U R(U, S) + \\alpha_V R(V, S) + \\beta R(U, V) + \\gamma |R(U, S) - R(V, S)|\n",
    "$\n",
    "\n",
    "**Вопрос 7**: Какие два шага выделяют в алгоритме кластеризации k-means?\n",
    "\n",
    "Переприсвоение кластеров и пересчет центров.\n",
    "\n",
    "**Вопрос 8**: В чём отличия (основные упрощения) k-means от EM-алгоритма кластеризации?\n",
    "\n",
    "В EM-алгоритме каждый считается, что объект имеет некоторое распределение по кластерам. В k-means мы приписываем объект одному кластеру.  \n",
    "\n",
    "** Вопрос 9 ** Какой принцип работы графовых алгоритмов кластеризации?\n",
    "\n",
    "Представляем структуру в виде графа, и дальше стоим кластеры опираясь на какие-то свойства этого графа (компоненты связности, какие-то интересные пути в графе или что-то еще)\n",
    "\n",
    "** Вопрос 10 **  В чем некорректность постановки задачи кластеризации?\n",
    "\n",
    "Нет точной формулировки, четкого единственного критерия качества. \n",
    "\n",
    "-----------\n",
    "PS: Если проверяющий не понял ответ на большинство вопросов, то будет пичалька. Пишите так, чтобы можно было разобраться. "
   ]
  },
  {
   "cell_type": "markdown",
   "metadata": {
    "collapsed": true
   },
   "source": [
    "<h1 align=\"center\">Вопросы по теории (30%) </h1> "
   ]
  },
  {
   "cell_type": "markdown",
   "metadata": {},
   "source": [
    "** Задача 1 ** \n",
    "Ответьте на вопросы:\n",
    "\n",
    " 1) Как можно не прибегая к визуализации понять, что кластерная структура у данного облака точек отсутствует?\n",
    " \n",
    " Если при запуске алгоритмов есть сильная неустойчивость / зависимость от инициализации, то кластерной структуры скорее всего нет.\n",
    " \n",
    "В частном случае, можно проверить отсутствие гауссовой кластерной структуры, в статах кажется есть какой-то соответствующий критерий согласия. \n",
    " \n",
    " 2) Какие из алгоритмов кластеризации могут выделять кластеры с ленточной структурой?\n",
    " \n",
    "     DBSCAN, Выделение связных компонент, Aglomerating clustering\n",
    " \n",
    " 3) Какие алгоритмы кластеризации чувствительны к шуму и перемычкам?'\n",
    " \n",
    "К шуму:\n",
    "   * Выделение связных компонент\n",
    "   * Видимо, K-means, потому что среднее не устойчиво к шуму\n",
    "   \n",
    "К перемычкам:\n",
    "   * Выделение связных компонент \n",
    "   * Кратчайший незамкнутий путь\n",
    "\n",
    " 4) Каким образом приближают «центр кластера» в нелинейных пространствах?\n",
    " \n",
    " $x_0 = \\arg \\min\\limits_{x \\in K_0} \\sum\\limits_{x' \\in K_0} \\rho(x, x')$ -- объект до которого минимизируется расстояние от остальных.\n",
    " \n",
    " 5) Каким образом можно определять число кластеров?\n",
    " \n",
    " Ну можно выбрать какую-нибудь метрику качества, перебирать количество кластеров и смотреть когда все будет ухудшаться. Или использовать агломеративную кластеризацию / другой метод самостоятельно подбирающий число кластеров."
   ]
  },
  {
   "cell_type": "markdown",
   "metadata": {},
   "source": [
    " ** Задача 2 **\n",
    "Даны пять точек на числовой оси $X = (1; 5; 7; 8; 8)$, число кластеров равно 2. Рассчитайте ответ алгоритма  K-means (финальные центры кластеров), если начальные центры кластеров c1 = 1, c2 = 10."
   ]
  },
  {
   "cell_type": "code",
   "execution_count": 12,
   "metadata": {
    "collapsed": true
   },
   "outputs": [],
   "source": [
    "from sklearn.cluster import KMeans\n",
    "import numpy as np"
   ]
  },
  {
   "cell_type": "code",
   "execution_count": 16,
   "metadata": {},
   "outputs": [
    {
     "data": {
      "text/plain": [
       "array([[ 3.        ],\n",
       "       [ 7.66666667]])"
      ]
     },
     "execution_count": 16,
     "metadata": {},
     "output_type": "execute_result"
    }
   ],
   "source": [
    "algo = KMeans(n_clusters=2, init=np.array([[1], [10]]), algorithm='auto', n_init=1)\n",
    "algo.fit(np.transpose([[1, 5, 7, 8, 8]])).cluster_centers_"
   ]
  },
  {
   "cell_type": "markdown",
   "metadata": {},
   "source": [
    "** Задача 3 **\n",
    "Докажите, что the k-means всегда сходится.\n",
    "\n",
    "<img src=\"kmeans.png\">\n",
    "\n",
    "($f_i(x)$ это j-й признай объекта  $x$)"
   ]
  },
  {
   "cell_type": "markdown",
   "metadata": {},
   "source": [
    "Введем фукнкцию $E(C) := \\sum\\limits_{x \\in X} ||x - c(x)||^2$, где $c(x)$ -- текущий центр кластера $x$, а $C$ -- текущее разбиение на кластеры. \n",
    "\n",
    "1) Заметим, что центры кластеров целиком определяются объектами и текущим разбиением на кластеры.\n",
    "\n",
    "2) Заметим, что разбиений на кластеры конечное число.\n",
    "\n",
    "3) Заметим, что шаг 3 не увеличивает $E(C)$ (потому что для каждого $x$ мы не увеличили $||x - (c)||^2$, а шаг 4 ее либо уменьшает, либо не изменяет, но в таком случае мы не поменяли y_i$ (Потому что в центре тяжести достигается строгий глобальный минимум 2-нормы))\n",
    "\n",
    "Из 1) и 3) следует, что мы не можем второй раз прийти в одно и то же состояние (зациклится) и не остановиться (потому что E(C) уменьшается). \n",
    "\n",
    "Из 2) следует, что рано или поздно мы зациклимся\n",
    "\n",
    "Значит, мы когда-нибудь остановимся, то есть сойдемся\n"
   ]
  },
  {
   "cell_type": "markdown",
   "metadata": {},
   "source": [
    "** Задача 4 **\n",
    "Для сжатия размерности пространства алгоритм PCA применяется датасету с количеством признаков $D = 100$. Наблюдается следующий спектр собственных значений матрицы объектов-признаков. \n",
    "\n",
    "<img src=\"PCA_lambda.PNG\" width=\"600\">\n",
    "\n",
    "Ответье на вопросы\n",
    "\n",
    "* 1) Высокая ли эффективная размерность пространства признаков (intrinsic dimensionality) (насколько она близка к 100)?\n",
    "* 2) Можно ли перевести датасет с помощью PCA в пространство меньшей размерности с минимальными потерями точности? Если да, то чему примерно будет равна размернось "
   ]
  },
  {
   "cell_type": "markdown",
   "metadata": {},
   "source": [
    "Из картинки примерно $\\lambda_i = 1.7 - i \\cdot 0.012$"
   ]
  },
  {
   "cell_type": "code",
   "execution_count": 20,
   "metadata": {
    "collapsed": true
   },
   "outputs": [],
   "source": [
    "n = 100\n",
    "lms = [1.7 - i * 0.012 for i in range(n)]"
   ]
  },
  {
   "cell_type": "code",
   "execution_count": 22,
   "metadata": {
    "collapsed": true
   },
   "outputs": [],
   "source": [
    "dTot = np.sum(lms)\n",
    "var_i = np.array([np.sum(lms[: i + 1]) / \\\n",
    "                dTot * 100.0 for i in range(n)])"
   ]
  },
  {
   "cell_type": "code",
   "execution_count": 33,
   "metadata": {},
   "outputs": [
    {
     "data": {
      "image/png": "[encoded data removed]",
      "text/plain": [
       "<matplotlib.figure.Figure at 0x7f0833a975f8>"
      ]
     },
     "metadata": {},
     "output_type": "display_data"
    },
    {
     "data": {
      "image/png": "[encoded data removed]",
      "text/plain": [
       "<matplotlib.figure.Figure at 0x7f0833a7b8d0>"
      ]
     },
     "metadata": {},
     "output_type": "display_data"
    }
   ],
   "source": [
    "plt.plot(var_i)\n",
    "plt.show()\n",
    "plt.plot(100 - var_i)\n",
    "plt.show()"
   ]
  },
  {
   "cell_type": "markdown",
   "metadata": {},
   "source": [
    "Получается что-то, что после 3 семестров подгонов на физике можно считать линией, причем под 45. То есть еслимы хотим сохранить N% информации, надо  оставить примерно N признаков.\n",
    "\n",
    "А вообще поставленные вопросы некорректны (по крайней мере первый), потому что эффективная размерность зависит от $\\varepsilon$"
   ]
  },
  {
   "cell_type": "markdown",
   "metadata": {},
   "source": [
    "<img src=\"eff.png\">"
   ]
  },
  {
   "cell_type": "markdown",
   "metadata": {},
   "source": [
    "<h2 align=\"center\">Практическое задание 1 (30%) </h2>\n",
    "Реализуйте PCA"
   ]
  },
  {
   "cell_type": "code",
   "execution_count": 1,
   "metadata": {
    "collapsed": true
   },
   "outputs": [],
   "source": [
    "import numpy as np\n",
    "import pylab as plt"
   ]
  },
  {
   "cell_type": "code",
   "execution_count": 7,
   "metadata": {
    "collapsed": true
   },
   "outputs": [],
   "source": [
    "import numpy as np\n",
    "import pylab as plt\n",
    "'''\n",
    "Performs the Principal Coponent analysis of the Matrix F\n",
    "Matrix must be n * l dimensions\n",
    "where n is # features\n",
    "l is # samples\n",
    "'''\n",
    "\n",
    "def PCA(F, varRetained = 0.95, show = False):\n",
    "    # Input\n",
    "    #     F - initaial matrix \n",
    "    # Compute Covariance Matrix Sigma\n",
    "    # Input\n",
    "    (n, l) = F.shape\n",
    "    Sigma = 1.0 / l * np.dot(F, np.transpose(F))\n",
    "    # Compute eigenvectors and eigenvalues of Sigma by SVD\n",
    "    # U, V - matrix, d - array: Sigma = U * np.diag(d) * V\n",
    "    U, d, V = np.linalg.svd(Sigma)\n",
    "    # compute the value m: number of minumum features that retains the given variance varRetaine\n",
    "    dTot = np.sum(d)\n",
    "    var_i = np.array([np.sum(d[: i + 1]) / \\\n",
    "                dTot * 100.0 for i in range(n)])\n",
    "    #вычислите необходимое число главных компонент\n",
    "    m = np.where(var_i > varRetained * 100.0)[0][0]\n",
    "\n",
    "    #верните число m и точность, которая достигается при этом числе главных компонент\n",
    "    print('%.2f variance retained in %d dimensions' % (var_i[m], m))\n",
    "    # plot the variance plot\n",
    "    if show:\n",
    "        plt.plot(var_i)\n",
    "        plt.xlabel('Number of Features')\n",
    "        plt.ylabel(' Percentage Variance retained')\n",
    "        plt.title('PCA $\\% \\sigma^2 $ vs # features')\n",
    "        plt.show()\n",
    "\n",
    "    # compute the reduced dimensional features by projection\n",
    "    U_reduced = U[:m] #только m главных компонент\n",
    "    G = np.dot(U_reduced, F) #вычислить матрицу в преобразованном пространстве\n",
    "\n",
    "    return G, U_reduced"
   ]
  },
  {
   "cell_type": "code",
   "execution_count": 8,
   "metadata": {
    "collapsed": true
   },
   "outputs": [],
   "source": [
    "# Примените алгоритм к данным MNIST\n",
    "from sklearn.model_selection import train_test_split\n",
    "\n",
    "from sklearn.datasets import load_digits\n",
    "X, y = load_digits(return_X_y=True)\n",
    "X_train, X_test, Y_train, Y_test = train_test_split(X, y, train_size=0.7)"
   ]
  },
  {
   "cell_type": "code",
   "execution_count": 9,
   "metadata": {},
   "outputs": [
    {
     "name": "stdout",
     "output_type": "stream",
     "text": [
      "Performing PCA - Principal COmponent Analysis\n",
      "95.25 variance retained in 15 dimensions\n"
     ]
    },
    {
     "data": {
      "image/png": "[encoded data removed]",
      "text/plain": [
       "<matplotlib.figure.Figure at 0x7f0843b6ef28>"
      ]
     },
     "metadata": {},
     "output_type": "display_data"
    }
   ],
   "source": [
    "#################################################################\n",
    "# PCA of training set\n",
    "print('Performing PCA - Principal COmponent Analysis')\n",
    "\n",
    "Z, U_reduced = PCA(X.T, varRetained = 0.95, show = True)"
   ]
  },
  {
   "cell_type": "code",
   "execution_count": 10,
   "metadata": {},
   "outputs": [
    {
     "name": "stdout",
     "output_type": "stream",
     "text": [
      "[[  0.00000000e+00   1.00000000e+01   1.60000000e+01 ...,   6.00000000e+00\n",
      "    1.20000000e+01   1.20000000e+01]\n",
      " [ -4.12262764e+00  -9.14308288e+00  -1.14155172e+01 ...,  -6.80163079e+00\n",
      "   -5.68822182e+00  -5.65268685e+00]\n",
      " [ -4.14452856e+00   2.70430933e+00  -3.50320421e+00 ...,   4.67505995e-01\n",
      "   -9.01156327e+00  -2.37711035e+00]\n",
      " ..., \n",
      " [  7.76751944e+00  -5.53596107e+00   2.47524920e+00 ...,   7.79765516e+00\n",
      "    5.95355820e+00   9.61797858e+00]\n",
      " [  8.96452321e+00  -1.08464694e-02   4.39337199e+00 ...,   3.12804013e+00\n",
      "    8.72666154e+00   7.41659784e+00]\n",
      " [ -1.05451907e+00   1.97774069e+00   5.97688068e-01 ...,  -3.26128021e+00\n",
      "   -1.64759809e+00  -3.31361018e+00]]\n",
      "[[  0.00000000e+00   0.00000000e+00   0.00000000e+00   0.00000000e+00\n",
      "    0.00000000e+00   0.00000000e+00   0.00000000e+00   0.00000000e+00\n",
      "    0.00000000e+00   0.00000000e+00   0.00000000e+00   0.00000000e+00\n",
      "    0.00000000e+00   0.00000000e+00   0.00000000e+00   0.00000000e+00\n",
      "    0.00000000e+00   0.00000000e+00   0.00000000e+00   0.00000000e+00\n",
      "    0.00000000e+00   0.00000000e+00   0.00000000e+00   0.00000000e+00\n",
      "    0.00000000e+00   0.00000000e+00   0.00000000e+00   0.00000000e+00\n",
      "    0.00000000e+00   0.00000000e+00   0.00000000e+00   0.00000000e+00\n",
      "    0.00000000e+00   0.00000000e+00   0.00000000e+00   0.00000000e+00\n",
      "    0.00000000e+00   0.00000000e+00   0.00000000e+00   0.00000000e+00\n",
      "    0.00000000e+00   0.00000000e+00   0.00000000e+00   0.00000000e+00\n",
      "    0.00000000e+00   0.00000000e+00   0.00000000e+00   0.00000000e+00\n",
      "    0.00000000e+00   0.00000000e+00   0.00000000e+00   0.00000000e+00\n",
      "    0.00000000e+00   0.00000000e+00   0.00000000e+00   0.00000000e+00\n",
      "    0.00000000e+00   0.00000000e+00   0.00000000e+00   0.00000000e+00\n",
      "    0.00000000e+00   1.00000000e+00   0.00000000e+00   0.00000000e+00]\n",
      " [ -5.77192878e-03  -1.73619371e-02   9.85740003e-03  -1.84048382e-02\n",
      "    1.99513790e-02  -1.42232213e-02   1.09749979e-02  -8.50458120e-03\n",
      "    1.89535667e-02  -2.00303310e-02   1.39722270e-02  -8.73734257e-03\n",
      "   -5.71260055e-02   2.19374814e-02  -1.57656455e-02   1.47984172e-03\n",
      "   -1.01198862e-02   1.96693084e-02  -1.70121214e-02   2.22654266e-02\n",
      "   -2.11335958e-02   5.60424078e-03  -2.88108189e-02   4.97648011e-02\n",
      "   -2.10140473e-02  -2.76328019e-03  -8.37324831e-03   8.14939396e-03\n",
      "    7.02141831e-04  -5.33688855e-02  -8.59628354e-03  -8.01945633e-02\n",
      "    4.01911818e-02   2.83609712e-02   3.08499818e-02   2.18978393e-02\n",
      "    2.56383617e-02  -2.21436704e-02  -1.05228027e-02  -6.43467663e-02\n",
      "   -2.29936335e-02  -1.42208149e-01   4.95236735e-02   5.45509641e-02\n",
      "    1.19862012e-01   6.87182285e-02   1.09664338e-02   9.88662256e-02\n",
      "   -6.01577541e-01  -1.04669157e-02  -2.24166905e-03  -7.42304307e-01\n",
      "   -7.98340160e-03  -4.49321987e-03  -1.67018404e-02  -1.65311655e-02\n",
      "   -1.61402199e-02  -3.81770254e-03  -4.66706009e-03  -1.28842236e-03\n",
      "   -5.97669027e-03   0.00000000e+00  -2.16587590e-16   6.71505469e-17]\n",
      " [ -1.00696020e-01  -2.24200800e-01   4.48071690e-02  -1.23100765e-01\n",
      "    1.82042764e-01  -8.72415154e-02   6.17819566e-02  -5.49919656e-02\n",
      "    2.12755902e-01  -8.25529225e-02  -4.45382518e-02  -1.21328951e-01\n",
      "   -2.63822844e-01   1.33292578e-01  -6.65469554e-02  -1.41583772e-01\n",
      "   -2.31431856e-02   1.04327123e-01   8.23299082e-03   5.71698764e-02\n",
      "   -1.56314151e-02  -1.38969816e-01  -7.56446392e-02   6.39947697e-02\n",
      "   -4.60868128e-02   1.69939602e-03  -1.40683102e-01   4.86411419e-02\n",
      "   -4.59908463e-02  -1.31155460e-01   9.55670635e-02   2.03195319e-02\n",
      "    9.50411563e-02  -6.11855424e-02  -9.30269363e-02   4.53018729e-02\n",
      "   -3.61506732e-02   6.98896788e-02  -9.96581450e-02   4.26297018e-02\n",
      "   -1.04683652e-01   9.50847931e-02  -5.58201364e-02   7.79970443e-02\n",
      "    4.74714148e-01  -9.88524453e-03   5.21864738e-01   1.85071878e-02\n",
      "    1.67455212e-01   6.55660541e-03  -5.15904600e-03   4.02590254e-03\n",
      "    3.56204346e-03   4.32915907e-03  -3.71593063e-03  -5.18065310e-04\n",
      "   -1.38521356e-03   7.92334595e-04  -5.99973691e-04   3.43102867e-04\n",
      "   -6.28353106e-04   0.00000000e+00  -5.55515956e-17  -2.51733665e-17]\n",
      " [ -2.29641867e-01  -1.37464667e-01   8.71833404e-04  -1.22041169e-01\n",
      "    2.08220187e-01   5.84089331e-02  -7.17565845e-02   3.63120681e-02\n",
      "    1.64351626e-01   2.07519908e-02   3.20636404e-03  -1.10118118e-01\n",
      "    1.24642536e-01  -1.79412849e-01   1.43104002e-01  -1.25929338e-01\n",
      "   -8.24255778e-02   3.16757344e-04  -1.06485348e-02  -2.15938542e-01\n",
      "    1.47115264e-01  -6.07842749e-02   9.07774550e-02   1.02481846e-01\n",
      "   -3.38184288e-02  -1.08248813e-01   8.80541267e-02   7.03095508e-02\n",
      "    2.42095555e-01   1.50357063e-01   2.21895909e-02  -8.76541907e-02\n",
      "    2.02477050e-01   1.03488644e-01   1.43543766e-02  -2.61825127e-01\n",
      "    2.08212728e-01   1.75142081e-01   4.44612859e-01   2.30557361e-01\n",
      "   -2.28417945e-01  -1.21034278e-01   2.37878734e-02   4.30262393e-02\n",
      "   -7.89539290e-02   2.64917480e-02   6.79172986e-03  -3.27886826e-02\n",
      "   -2.49985809e-03   3.66916149e-02  -3.93365650e-04  -3.30890081e-03\n",
      "   -3.60124308e-03   4.43824440e-03  -1.70867254e-03  -5.55355422e-04\n",
      "    7.65534199e-04  -9.04264893e-04   5.94930440e-04   8.84500270e-05\n",
      "   -2.40635592e-04   0.00000000e+00   1.14998661e-17  -2.32866293e-17]\n",
      " [ -2.29629079e-01  -3.44686443e-02   4.71422113e-02   1.44693467e-01\n",
      "    4.63059807e-02   7.41524150e-03  -6.06356534e-02  -5.72724148e-02\n",
      "   -9.22560987e-02  -1.89172931e-01   2.94432272e-01   1.82407810e-01\n",
      "   -8.39617486e-02  -1.75555989e-01   3.81126209e-01   1.64828035e-01\n",
      "   -1.83132054e-01  -8.79595585e-04   3.30694206e-01   3.23589003e-02\n",
      "    3.17790171e-02   5.46021054e-02  -3.44351752e-02  -3.32550729e-02\n",
      "   -2.61512071e-01  -3.46371266e-01   5.69132047e-02   1.20101766e-01\n",
      "    1.21621854e-01  -1.08894130e-01   1.00809980e-02  -2.01352499e-02\n",
      "   -1.62844841e-01   1.96389833e-01  -5.78853017e-02  -6.14596997e-02\n",
      "    1.48126398e-02   2.54410413e-02  -2.22625073e-01  -3.83366872e-02\n",
      "    1.23989232e-01   7.28363566e-02  -4.66269060e-02   1.25064305e-02\n",
      "    6.72920352e-02  -3.32159716e-02   3.57162635e-02   4.01063532e-02\n",
      "    7.15489748e-03  -1.00062859e-02  -6.78918092e-04   2.72709271e-03\n",
      "   -1.03217169e-04  -2.28775684e-03   5.98908565e-04  -4.07593275e-04\n",
      "   -6.02889252e-05  -7.24743954e-06  -2.35025947e-04  -6.79905782e-05\n",
      "   -3.92960605e-05   0.00000000e+00  -1.83792890e-16  -7.84147618e-17]\n",
      " [ -1.11132408e-01  -9.72341798e-02   1.16667579e-01   2.68551096e-01\n",
      "    1.02219668e-01  -1.70751857e-01  -8.92874500e-02  -6.90141172e-02\n",
      "   -3.19884043e-01  -2.58880617e-01   3.25228506e-01   1.43564896e-02\n",
      "   -1.11927932e-01   2.33971700e-01   8.07584715e-02   4.51286650e-02\n",
      "    4.98369001e-02  -6.20388202e-02  -1.39886911e-01   1.02240491e-01\n",
      "    2.22266218e-01  -1.59401480e-01  -1.98702201e-02  -1.06670396e-01\n",
      "    3.18881798e-03   1.09799820e-01   1.07524842e-01  -1.63726528e-01\n",
      "    3.93520732e-02   8.24840670e-02  -2.09162480e-01  -3.08684918e-02\n",
      "    1.03943273e-01  -2.01353922e-01  -3.95853521e-02   1.75917213e-01\n",
      "   -2.13669930e-01  -5.46329626e-02   3.08074129e-01  -8.14142566e-03\n",
      "   -1.47658987e-01  -6.27990740e-03   4.44202622e-02   5.56667322e-02\n",
      "   -1.31374087e-03   9.70736690e-03   1.54552373e-03  -8.84450694e-02\n",
      "    5.26185646e-03   1.03522908e-02  -8.25565428e-03  -2.01320030e-03\n",
      "    1.94396754e-03   4.37642977e-03  -1.07976289e-04   2.72814798e-04\n",
      "   -7.15070536e-04   4.34066756e-04   2.59845965e-04   9.70569778e-05\n",
      "    2.27224682e-04   0.00000000e+00   3.24138578e-17   7.20209281e-17]\n",
      " [ -2.53850228e-02  -8.38661323e-03   6.29499204e-02   1.16106606e-01\n",
      "    7.21682736e-02  -9.40017765e-02  -5.63045722e-02   1.72780160e-02\n",
      "   -9.87873958e-02  -5.37227587e-02   1.66759633e-01  -1.74757303e-01\n",
      "   -9.87584737e-03   1.87397012e-01  -1.05936543e-01   8.99445885e-02\n",
      "    2.23915054e-01   4.86804186e-02  -1.69282777e-01  -1.80827499e-01\n",
      "   -1.21216263e-02  -1.73277831e-02   1.95723355e-01   8.71126812e-02\n",
      "   -7.85604605e-02   4.16295262e-02   2.93675300e-03   1.36032533e-02\n",
      "    2.65145872e-01   2.87558804e-03  -2.85789363e-03  -3.06113103e-02\n",
      "   -7.43130933e-02  -1.75514433e-01   1.50849498e-01  -3.07334986e-01\n",
      "    2.48650913e-01  -1.15600546e-01  -3.27721865e-01   1.49018225e-01\n",
      "   -1.42040015e-02   6.10656923e-02   4.39566163e-02  -3.80793412e-01\n",
      "    8.19918823e-02   8.75871692e-02  -3.98068498e-02   2.62577621e-01\n",
      "    2.66883715e-02  -2.24046421e-03   6.56224420e-02   2.53821004e-03\n",
      "   -4.44167657e-04  -9.02951981e-03   7.32658083e-04  -8.92563043e-04\n",
      "    6.37355350e-04   2.93204313e-04   1.68428250e-03   1.47114020e-04\n",
      "   -6.05364374e-04   0.00000000e+00   7.87856517e-17  -3.27252791e-16]\n",
      " [ -2.27321903e-03   2.28152694e-03   8.16433952e-03   1.66018946e-02\n",
      "    8.96277131e-03  -3.88925929e-03  -1.01703385e-02   1.22833352e-02\n",
      "   -6.72002558e-03   2.68640192e-03   2.58564750e-02  -4.85613004e-02\n",
      "    3.37151276e-03   1.62600863e-02  -2.06188068e-02   3.19757477e-02\n",
      "    5.29810715e-02   1.81123986e-02  -2.01729193e-02  -6.42796947e-02\n",
      "   -1.75946966e-02   1.68558427e-02   4.01463231e-02   2.25954956e-02\n",
      "   -1.79510170e-02  -1.21764328e-02   2.15678785e-02   3.16788336e-02\n",
      "    2.43845491e-02   2.11524353e-02   6.76644564e-03  -6.39424416e-03\n",
      "   -9.29044673e-03   2.49701335e-02   1.80851888e-02  -3.28105540e-02\n",
      "    6.58142275e-02  -1.22209666e-02  -9.95225369e-02   1.15918374e-02\n",
      "    3.37647512e-02   2.77437058e-02   7.49093066e-03  -2.20529637e-01\n",
      "    1.05390192e-01   6.68531321e-02   1.38131287e-02  -7.24094128e-01\n",
      "   -1.11788776e-01  -4.21362039e-02  -5.67754529e-01  -8.30864495e-04\n",
      "    1.27868327e-02   1.90758946e-01   2.20106190e-02   1.56110265e-03\n",
      "    7.96556620e-05   1.59760602e-04  -8.04558547e-03  -1.40353904e-04\n",
      "    1.70820855e-03   0.00000000e+00  -1.20630760e-15   1.36283093e-15]\n",
      " [ -1.15131258e-04  -3.22519902e-04   1.52191610e-04  -3.84251131e-04\n",
      "    7.40455696e-05  -1.13674504e-04   1.06739973e-04  -2.50175220e-04\n",
      "   -5.07846799e-04  -2.68204150e-04  -2.39878440e-04   1.53883443e-03\n",
      "   -1.24616736e-03  -7.90157560e-04   6.37575828e-04   1.09746927e-03\n",
      "   -8.16563216e-04   7.91251118e-04  -1.26974752e-03  -5.40037535e-04\n",
      "   -3.77392150e-04   3.61585487e-03  -2.81380611e-04   2.61451380e-03\n",
      "    1.30307539e-03   6.80914836e-04   1.80906109e-03  -5.58925382e-04\n",
      "   -2.84166314e-04   2.03371611e-03   1.21479347e-03  -3.74454973e-03\n",
      "   -2.16826009e-03   1.02172633e-03   2.97396850e-03   1.42626376e-04\n",
      "    2.71520201e-03  -2.68633032e-03   1.79240664e-03  -3.29795303e-03\n",
      "   -1.17971818e-04  -1.60355269e-03   4.23097356e-03  -2.07953914e-03\n",
      "   -1.47161383e-03  -2.26021752e-03   1.80777196e-03  -9.24381330e-04\n",
      "    6.76991236e-03  -4.52157895e-03   5.67604760e-04   1.76929086e-02\n",
      "   -4.39756860e-03   5.23268204e-04  -2.87114349e-03   4.45809609e-04\n",
      "   -9.54722638e-01  -2.88012971e-01  -1.53043335e-03   7.07665737e-02\n",
      "   -2.46504262e-04   0.00000000e+00  -1.71878854e-14   2.91720253e-14]\n",
      " [ -3.85780810e-02  -1.19627690e-01   1.91174589e-02  -7.82952433e-02\n",
      "    7.61589235e-02  -5.34764761e-02   6.49548191e-03  -1.73436737e-03\n",
      "    5.39731651e-02  -1.95110129e-02   3.07472748e-02   1.26869645e-01\n",
      "   -2.09804541e-01   1.81575956e-02  -2.74672837e-02   1.15804922e-01\n",
      "   -4.43466090e-02   9.14611265e-02  -1.29815571e-01   9.58492338e-02\n",
      "   -8.67381319e-02   3.23481472e-01  -9.64450175e-02   1.96300140e-01\n",
      "   -9.52294509e-03   2.67767458e-02   1.38022030e-01   8.31088472e-02\n",
      "   -6.67217566e-02  -6.03015627e-03  -1.35524161e-02  -3.40301439e-01\n",
      "   -9.46960980e-02   4.90925147e-02   3.40632277e-01   2.42283508e-02\n",
      "    1.41289340e-01  -2.01681913e-01   1.20822583e-01  -2.94220137e-01\n",
      "   -5.05136855e-02  -2.83249086e-01   3.00277950e-01  -5.94077342e-02\n",
      "   -6.03002227e-02  -1.89808975e-01   1.12605472e-01  -1.89674471e-02\n",
      "    1.54141253e-01  -8.85398252e-03  -8.70605039e-03   5.90262386e-02\n",
      "   -1.20957329e-03  -2.85348845e-03   2.19907387e-03   9.15593276e-04\n",
      "    1.16764847e-02   3.58010193e-03   1.05241475e-04   4.49539779e-04\n",
      "    4.66343882e-04   0.00000000e+00  -5.27428629e-18  -7.64895583e-17]\n",
      " [ -2.01744314e-01  -2.45698693e-01  -6.81140823e-02  -7.74965809e-02\n",
      "    3.21106793e-01  -5.43228119e-02  -2.82212612e-02   2.15258005e-02\n",
      "    2.75392498e-02   5.06677342e-02  -9.39465003e-02   8.17203464e-02\n",
      "    6.56954101e-02   2.85215504e-02  -1.05389361e-01   5.43184523e-02\n",
      "    1.01758550e-01   9.64009626e-02   1.02953388e-01   6.83154698e-02\n",
      "    1.38866366e-01   1.94234072e-01   8.55499889e-02  -2.59613275e-01\n",
      "   -4.58333746e-02   1.50145475e-01   1.35802769e-01   7.01226982e-02\n",
      "   -2.95699126e-01  -9.30615114e-02  -6.72019307e-02   2.16070535e-01\n",
      "   -4.61079083e-01  -1.08077349e-01  -2.21805385e-01   3.28244301e-02\n",
      "    2.30169695e-01  -1.09579182e-02   2.95610027e-02   8.82263378e-02\n",
      "   -1.55254520e-01  -2.76684350e-03   2.02902639e-02  -1.92682679e-03\n",
      "   -5.65460832e-02   6.26920865e-02  -8.95106050e-02  -3.32504283e-03\n",
      "   -6.89292113e-02  -1.02857753e-02   9.78535766e-03  -6.10976984e-03\n",
      "    1.12187356e-03   4.50377186e-03  -1.03337365e-03  -1.72183182e-03\n",
      "   -4.34160894e-04  -1.33453653e-03  -1.42889673e-04  -1.20756050e-06\n",
      "   -2.43148465e-04   0.00000000e+00   1.09175487e-16  -2.00009971e-17]\n",
      " [ -2.32849975e-01   1.46934320e-01  -2.70157334e-03  -5.44499073e-02\n",
      "    5.05491542e-02  -4.12433527e-03   5.61756167e-02   1.45931160e-01\n",
      "   -2.23609176e-02   7.60848951e-02   1.72996200e-01  -1.36535646e-01\n",
      "    2.17040157e-01  -1.20432471e-01  -8.71633252e-02   1.35373561e-02\n",
      "    2.94511404e-01   1.70235043e-02   5.31431602e-02   8.62484453e-02\n",
      "    1.02347321e-01   2.34459440e-02  -2.06624754e-01   1.18873648e-01\n",
      "   -1.11344142e-01   1.71069826e-01  -1.12910897e-01  -4.25893525e-01\n",
      "   -1.42909224e-01  -1.62231200e-01  -1.28811088e-01  -3.81671681e-01\n",
      "   -1.98156202e-02   1.78466753e-01  -1.93404774e-01  -1.38633257e-01\n",
      "    7.01785556e-03   1.83724826e-01  -7.47157344e-03  -1.01801603e-01\n",
      "    1.32642804e-01   1.49634846e-03  -3.16334420e-02  -3.36617724e-02\n",
      "    3.08285533e-02   9.13660725e-03   4.64344279e-02   1.68707440e-02\n",
      "    5.92537711e-02   1.11408351e-02  -7.19844544e-03  -2.53564865e-03\n",
      "    2.28955025e-03   2.67808932e-03  -4.28573553e-04  -3.01232232e-04\n",
      "    2.29036532e-04   2.11862098e-04   2.22969982e-04   3.89677321e-04\n",
      "   -7.52314095e-05   0.00000000e+00   8.02290071e-17  -1.84055571e-17]\n",
      " [ -2.00821003e-01  -4.83676918e-02   8.42083867e-02   1.18547672e-02\n",
      "   -1.39528864e-01   1.22238434e-01   2.53391236e-01  -3.38297792e-02\n",
      "    7.80888981e-02   5.11470207e-02   3.14473476e-01   2.31970289e-01\n",
      "   -8.96535650e-02  -1.91525321e-01  -2.77410042e-01  -4.40754616e-02\n",
      "    2.45238608e-01   7.63798058e-02   3.23520659e-01  -7.07579133e-02\n",
      "   -2.43868994e-01  -3.14870916e-02   1.94104992e-01   6.12757396e-02\n",
      "   -1.98802152e-01   2.59845349e-01  -1.92456183e-01   6.46957556e-02\n",
      "    8.62601640e-02   1.03916507e-01   2.98981747e-02   1.56113289e-01\n",
      "    5.25822875e-02  -3.47580830e-02   9.17703217e-02   4.40325674e-02\n",
      "   -1.19900550e-01  -1.75174254e-01   1.43859511e-01   4.46908966e-02\n",
      "   -8.38067962e-02  -1.26722088e-03   3.32077610e-02   5.74325837e-02\n",
      "   -2.67574440e-02  -2.52949920e-02  -2.13064873e-02  -1.83841762e-02\n",
      "   -1.32265381e-02   8.29729079e-03  -8.26036574e-03   1.98874157e-05\n",
      "    1.19585144e-03   3.10942237e-03   4.34315369e-04  -1.47936330e-04\n",
      "   -4.37885270e-04  -5.61612178e-04   8.72793223e-06  -6.09317710e-05\n",
      "    2.26853286e-04   0.00000000e+00   9.05822637e-17   4.00812210e-17]\n",
      " [ -1.59441471e-01  -2.18765265e-01   4.75889085e-02   2.89668917e-01\n",
      "    4.26257109e-02   2.04206981e-01   5.63005385e-02  -7.28108993e-02\n",
      "   -3.52718114e-01  -1.09238690e-01   1.02079279e-02   9.67337127e-02\n",
      "    5.28748792e-02  -5.64784412e-02   8.18306225e-04  -3.23372921e-01\n",
      "   -2.34185382e-02   9.14026550e-02  -2.31854435e-02   5.22155996e-02\n",
      "   -1.03827416e-01  -2.91031481e-02  -1.28776342e-01   1.32815332e-02\n",
      "    2.99051677e-01   6.13893576e-03  -1.39164694e-01  -2.84757615e-02\n",
      "   -3.38944403e-01   2.31559534e-01   2.05389371e-01   5.80893235e-02\n",
      "    1.08481761e-01   1.67325699e-01   1.40586893e-01  -5.79162316e-02\n",
      "    2.25539731e-01   1.44299701e-01  -1.19168738e-01   2.81886598e-03\n",
      "    7.53771089e-03  -5.04952622e-02   9.40158971e-03  -1.11234351e-01\n",
      "    2.85339034e-02   3.32961220e-02  -2.37154247e-02   3.88766942e-02\n",
      "    2.06366527e-03   3.47740839e-03   7.88000314e-03  -1.35783558e-04\n",
      "   -1.78766120e-03   1.78697039e-04   1.01958372e-03   1.85349567e-04\n",
      "    1.33264200e-03   1.88179460e-04   4.96149080e-04  -5.37656406e-05\n",
      "   -3.39412707e-05   0.00000000e+00   1.71678681e-16  -6.64627369e-17]\n",
      " [ -3.48630321e-02  -1.49123539e-02   5.96219458e-02   1.60049690e-01\n",
      "    4.70818569e-02  -3.52166341e-02  -4.71788480e-02   3.59908973e-02\n",
      "   -1.44358487e-01  -7.44498233e-02   5.65368430e-02  -2.58528405e-01\n",
      "    1.23071533e-03   1.18615098e-01  -1.11525361e-01   1.55259345e-01\n",
      "    2.27764307e-01   3.61963976e-02  -1.98633924e-01  -2.86842424e-01\n",
      "   -1.38493127e-01   8.04979390e-02   1.07143540e-01   1.15263189e-01\n",
      "   -1.65894294e-02  -6.37956881e-02  -3.84542149e-02   1.70747421e-01\n",
      "   -1.30090190e-02  -8.69023345e-02   1.36930854e-01   1.31991501e-01\n",
      "   -1.27951196e-01   1.36519674e-01   1.94842497e-02  -3.30032001e-02\n",
      "    3.39136006e-02   2.04722857e-01   7.50469821e-03  -1.65076606e-01\n",
      "    9.65619496e-02  -7.83237855e-03  -1.03354515e-01   5.76850844e-01\n",
      "   -1.47177129e-01  -1.41016029e-01   6.42838174e-02  -6.82402809e-02\n",
      "   -4.80660034e-04   2.12661048e-03  -2.47933974e-02  -1.08711153e-03\n",
      "    6.49537567e-04   2.29018465e-02  -2.70498640e-03   8.87313399e-04\n",
      "   -3.50680305e-04  -9.75851630e-04  -2.03670512e-03  -1.15155457e-04\n",
      "    2.91538931e-04   0.00000000e+00  -1.75343624e-16   1.73329364e-16]]\n"
     ]
    }
   ],
   "source": [
    "print(Z)\n",
    "print(U_reduced)"
   ]
  },
  {
   "cell_type": "markdown",
   "metadata": {},
   "source": [
    "<h1 align=\"center\"><h2 align=\"center\">Практическое задание 2 (40%) </h2> </h1>"
   ]
  },
  {
   "cell_type": "markdown",
   "metadata": {},
   "source": [
    "<h2 align=\"left\">Изучение алгоритмов кластеризации на разных выборках</h2>\n",
    "\n",
    "### Кластеризация цифр с помощью dbscan\n",
    "На данных из sklearn.datasets.load_digits примените алгоритмы кластеризации (знания о метках классов при кластеризации использовать нельзя):\n",
    " - <a href='http://scikit-learn.org/stable/modules/generated/sklearn.cluster.DBSCAN.html#sklearn.cluster.DBSCAN'>dbscan </a> \n",
    " запускайте при различных параметрах eps и minsamples, для всех экспериментов можете выбрать одну метрику (вспомните семинар про  метрические алгоритмы);\n",
    " - Используя метки классов цифр, оцените качество различных кластеризаций при помощи Adjusted Mutual Information и Adjusted Rand Index. \n",
    " - визуалируйте изображения тех цифр, которые соответствуют core_points;\n",
    " - визуалируйте изображения тех цифр, которые соответствуют выбросам;\n",
    " - сделайте выводы и применимости алгоритмов.\n",
    "\n",
    "### Уменьшение палитры изображения\n",
    " - для <a href=\"https://thumbs.dreamstime.com/x/two-lorikeet-birds-2293918.jpg\"> картинки </a> \n",
    "нужно уменьшить число цветов в палитре; для этого нужно выделить кластеры в пространстве RGB, объекты соответствуют пикселам изображения; после выделения кластеров,\n",
    "все пикселы, отнесенные в один кластер, заполняются одним цветом; этот цвет может быть центроидом соответствующего кластера, медианным цветом по кластеру. \n",
    " - Попробуйте различные алгоритмы кластеризации:\n",
    "        -- KMeans\n",
    "        -- MeanShift\n",
    "        -- AgglomerativeClustering\n",
    "   Рассмотрите число кластеров K = 2, 3, 10, 20\n",
    " - Для различных кластеризаций оцените и сравните потери от уменьшения цветов при помощи\n",
    "метрики <a href=\"http://scikit-image.org/docs/dev/api/skimage.measure.html\"> SSIM</a>. Какой способ оказался лучшим?"
   ]
  },
  {
   "cell_type": "code",
   "execution_count": 2,
   "metadata": {
    "collapsed": true
   },
   "outputs": [],
   "source": [
    "from sklearn.datasets import load_digits"
   ]
  },
  {
   "cell_type": "code",
   "execution_count": 3,
   "metadata": {
    "collapsed": true
   },
   "outputs": [],
   "source": [
    "data = load_digits().data\n",
    "images  = load_digits().images\n",
    "ans = load_digits().target"
   ]
  },
  {
   "cell_type": "code",
   "execution_count": 4,
   "metadata": {
    "collapsed": true
   },
   "outputs": [],
   "source": [
    "def show_images(images, x, y):\n",
    "    assert len(images) == x * y\n",
    "    plt.figure(figsize=(20, 10))\n",
    "    images = images.reshape(x, y, *images.shape[1:])\n",
    "    for i in range(x):\n",
    "        for j in range(y):\n",
    "            plt_idx = i * y + j + 1\n",
    "            plt.subplot(y, x, plt_idx)\n",
    "            plt.imshow(images[i, j])\n",
    "            plt.axis('off')\n",
    "    plt.show()"
   ]
  },
  {
   "cell_type": "code",
   "execution_count": 5,
   "metadata": {
    "scrolled": true
   },
   "outputs": [
    {
     "data": {
      "image/png": "[encoded data removed]",
      "text/plain": [
       "<matplotlib.figure.Figure at 0x7fc954eb7668>"
      ]
     },
     "metadata": {},
     "output_type": "display_data"
    }
   ],
   "source": [
    "show_images(images[:25], 5, 5)"
   ]
  },
  {
   "cell_type": "code",
   "execution_count": 6,
   "metadata": {
    "collapsed": true
   },
   "outputs": [],
   "source": [
    "from sklearn.metrics import adjusted_mutual_info_score, adjusted_rand_score"
   ]
  },
  {
   "cell_type": "code",
   "execution_count": 7,
   "metadata": {
    "collapsed": true
   },
   "outputs": [],
   "source": [
    "from sklearn.cluster import dbscan"
   ]
  },
  {
   "cell_type": "code",
   "execution_count": 11,
   "metadata": {
    "collapsed": true
   },
   "outputs": [],
   "source": [
    "def ami_score(eps, minsamples):\n",
    "    cores, labels = dbscan(data, eps=eps, min_samples=minsamples, metric='euclidean', n_jobs=4)\n",
    "    return adjusted_mutual_info_score(labels, ans)\n",
    "\n",
    "def ari_score(eps, minsamples):\n",
    "    cores, labels = dbscan(data, eps=eps, min_samples=minsamples, metric='euclidean', n_jobs=4)\n",
    "    return adjusted_rand_score(labels, ans)\n",
    "    "
   ]
  },
  {
   "cell_type": "code",
   "execution_count": 15,
   "metadata": {
    "collapsed": true
   },
   "outputs": [],
   "source": [
    "params = [(eps, minsamples) for eps in np.logspace(0.1, 2, 20) \n",
    "          for minsamples in np.arange(1, 20, 1)]"
   ]
  },
  {
   "cell_type": "code",
   "execution_count": null,
   "metadata": {},
   "outputs": [],
   "source": []
  },
  {
   "cell_type": "code",
   "execution_count": 16,
   "metadata": {
    "collapsed": true
   },
   "outputs": [],
   "source": [
    "from tqdm import tqdm_notebook as tqdm"
   ]
  },
  {
   "cell_type": "code",
   "execution_count": 18,
   "metadata": {},
   "outputs": [
    {
     "data": {
      "application/vnd.jupyter.widget-view+json": {
       "model_id": "fd581a39c3c749ab90b87dcc484bf67e"
      }
     },
     "metadata": {},
     "output_type": "display_data"
    },
    {
     "name": "stdout",
     "output_type": "stream",
     "text": [
      "\n"
     ]
    }
   ],
   "source": [
    "max_ans = None\n",
    "max_res = -1000\n",
    "for eps, minsamples in tqdm(params):\n",
    "    res = ami_score(eps, minsamples)\n",
    "    if res > max_res:\n",
    "        max_res = res\n",
    "        max_ans = (eps, minsamples)"
   ]
  },
  {
   "cell_type": "code",
   "execution_count": 19,
   "metadata": {},
   "outputs": [
    {
     "data": {
      "text/plain": [
       "(19.952623149688797, 3)"
      ]
     },
     "execution_count": 19,
     "metadata": {},
     "output_type": "execute_result"
    }
   ],
   "source": [
    "max_ans"
   ]
  },
  {
   "cell_type": "code",
   "execution_count": 20,
   "metadata": {
    "collapsed": true
   },
   "outputs": [],
   "source": [
    "cores, labels = dbscan(data, eps=max_ans[0], min_samples=max_ans[1], metric='euclidean', n_jobs=4)"
   ]
  },
  {
   "cell_type": "code",
   "execution_count": 24,
   "metadata": {},
   "outputs": [
    {
     "data": {
      "text/plain": [
       "23"
      ]
     },
     "execution_count": 24,
     "metadata": {},
     "output_type": "execute_result"
    }
   ],
   "source": [
    "labels.max()"
   ]
  },
  {
   "cell_type": "markdown",
   "metadata": {},
   "source": [
    "23 класса. Давайте посмотрим на какие-нибудь core objects"
   ]
  },
  {
   "cell_type": "code",
   "execution_count": 27,
   "metadata": {},
   "outputs": [],
   "source": [
    "from random import shuffle"
   ]
  },
  {
   "cell_type": "code",
   "execution_count": 30,
   "metadata": {},
   "outputs": [],
   "source": [
    "shuffle(cores)\n",
    "inds = cores[:100]"
   ]
  },
  {
   "cell_type": "code",
   "execution_count": 31,
   "metadata": {},
   "outputs": [
    {
     "data": {
      "image/png": "[encoded data removed]",
      "text/plain": [
       "<matplotlib.figure.Figure at 0x7fc951de4dd8>"
      ]
     },
     "metadata": {},
     "output_type": "display_data"
    }
   ],
   "source": [
    "show_images(images[inds], 10, 10)"
   ]
  },
  {
   "cell_type": "code",
   "execution_count": 36,
   "metadata": {},
   "outputs": [
    {
     "data": {
      "text/plain": [
       "array([[6, 7, 4, 2, 4, 6, 1, 2, 5, 8],\n",
       "       [9, 0, 8, 2, 8, 8, 0, 6, 4, 5],\n",
       "       [6, 7, 3, 4, 5, 2, 3, 8, 0, 0],\n",
       "       [4, 1, 2, 8, 7, 1, 9, 4, 2, 3],\n",
       "       [3, 3, 4, 1, 5, 1, 3, 9, 6, 7],\n",
       "       [2, 0, 2, 2, 6, 0, 1, 4, 4, 5],\n",
       "       [9, 5, 8, 4, 1, 3, 7, 7, 1, 6],\n",
       "       [4, 6, 7, 0, 4, 4, 0, 6, 1, 1],\n",
       "       [8, 9, 6, 4, 7, 1, 6, 1, 7, 6],\n",
       "       [1, 2, 2, 9, 4, 3, 4, 8, 9, 7]])"
      ]
     },
     "execution_count": 36,
     "metadata": {},
     "output_type": "execute_result"
    }
   ],
   "source": [
    "ans[inds].reshape(10, 10)"
   ]
  },
  {
   "cell_type": "code",
   "execution_count": 38,
   "metadata": {},
   "outputs": [
    {
     "data": {
      "text/plain": [
       "array([[ 1,  6,  4,  3,  4,  1,  1,  3,  5, 20],\n",
       "       [ 7,  0,  1,  3, 20,  1,  0,  1,  4,  8],\n",
       "       [ 1,  6,  2,  4,  5,  3,  2, 20,  0,  0],\n",
       "       [ 4,  1,  3, 20,  6,  1,  7,  4,  3,  2],\n",
       "       [ 2,  2,  4,  1,  8,  1,  2,  7,  1,  6],\n",
       "       [ 3,  0,  3,  3,  1,  0,  1,  4,  4,  8],\n",
       "       [ 7,  9,  1,  4, 15,  2,  6,  6,  1,  1],\n",
       "       [ 4,  1,  6,  0,  4,  4,  0,  1,  1,  1],\n",
       "       [ 1,  7,  1,  4,  6,  1,  1,  1, 19,  1],\n",
       "       [ 1,  3,  3,  7,  4,  2,  4,  1,  7,  6]])"
      ]
     },
     "execution_count": 38,
     "metadata": {},
     "output_type": "execute_result"
    }
   ],
   "source": [
    "labels[inds].reshape(10, 10)"
   ]
  },
  {
   "cell_type": "markdown",
   "metadata": {},
   "source": [
    "ну, объекты, что тут смотреть. Выбросы, наверное, поинтереснее будут"
   ]
  },
  {
   "cell_type": "code",
   "execution_count": 44,
   "metadata": {
    "collapsed": true
   },
   "outputs": [],
   "source": [
    "outlets = np.where(labels == -1)[0]"
   ]
  },
  {
   "cell_type": "code",
   "execution_count": 46,
   "metadata": {},
   "outputs": [
    {
     "data": {
      "text/plain": [
       "334"
      ]
     },
     "execution_count": 46,
     "metadata": {},
     "output_type": "execute_result"
    }
   ],
   "source": [
    "len(outlets)"
   ]
  },
  {
   "cell_type": "code",
   "execution_count": 47,
   "metadata": {},
   "outputs": [],
   "source": [
    "shuffle(outlets)\n",
    "outlets = outlets[:100]"
   ]
  },
  {
   "cell_type": "code",
   "execution_count": 48,
   "metadata": {},
   "outputs": [
    {
     "data": {
      "image/png": "[encoded data removed]",
      "text/plain": [
       "<matplotlib.figure.Figure at 0x7fc93dff5358>"
      ]
     },
     "metadata": {},
     "output_type": "display_data"
    }
   ],
   "source": [
    "show_images(images[outlets], 10, 10)"
   ]
  },
  {
   "cell_type": "markdown",
   "metadata": {},
   "source": [
    "ну как-то не очень похоже на выбросы, если честно"
   ]
  },
  {
   "cell_type": "markdown",
   "metadata": {},
   "source": [
    "Теперь ARI"
   ]
  },
  {
   "cell_type": "code",
   "execution_count": null,
   "metadata": {
    "collapsed": true
   },
   "outputs": [],
   "source": []
  },
  {
   "cell_type": "code",
   "execution_count": 50,
   "metadata": {},
   "outputs": [
    {
     "data": {
      "application/vnd.jupyter.widget-view+json": {
       "model_id": "15194fe88f03420a8e5435432b7b02d0"
      }
     },
     "metadata": {},
     "output_type": "display_data"
    },
    {
     "name": "stdout",
     "output_type": "stream",
     "text": [
      "\n"
     ]
    }
   ],
   "source": [
    "max_ans = None\n",
    "max_res = -1000\n",
    "for eps, minsamples in tqdm(params):\n",
    "    res = ari_score(eps, minsamples)\n",
    "    if res > max_res:\n",
    "        max_res = res\n",
    "        max_ans = (eps, minsamples)"
   ]
  },
  {
   "cell_type": "code",
   "execution_count": 51,
   "metadata": {},
   "outputs": [
    {
     "data": {
      "text/plain": [
       "(19.952623149688797, 1)"
      ]
     },
     "execution_count": 51,
     "metadata": {},
     "output_type": "execute_result"
    }
   ],
   "source": [
    "max_ans"
   ]
  },
  {
   "cell_type": "code",
   "execution_count": 52,
   "metadata": {
    "collapsed": true
   },
   "outputs": [],
   "source": [
    "cores, labels = dbscan(data, eps=max_ans[0], min_samples=max_ans[1], metric='euclidean', n_jobs=4)"
   ]
  },
  {
   "cell_type": "code",
   "execution_count": 53,
   "metadata": {},
   "outputs": [
    {
     "data": {
      "text/plain": [
       "328"
      ]
     },
     "execution_count": 53,
     "metadata": {},
     "output_type": "execute_result"
    }
   ],
   "source": [
    "labels.max()"
   ]
  },
  {
   "cell_type": "markdown",
   "metadata": {},
   "source": [
    "Разошелся, ничего не скажешь"
   ]
  },
  {
   "cell_type": "code",
   "execution_count": 54,
   "metadata": {
    "collapsed": true
   },
   "outputs": [],
   "source": [
    "shuffle(cores)\n",
    "inds = cores[:100]"
   ]
  },
  {
   "cell_type": "code",
   "execution_count": 55,
   "metadata": {},
   "outputs": [
    {
     "data": {
      "image/png": "[encoded data removed]",
      "text/plain": [
       "<matplotlib.figure.Figure at 0x7fc93eac7940>"
      ]
     },
     "metadata": {},
     "output_type": "display_data"
    }
   ],
   "source": [
    "show_images(images[inds], 10, 10)"
   ]
  },
  {
   "cell_type": "code",
   "execution_count": 56,
   "metadata": {},
   "outputs": [
    {
     "data": {
      "text/plain": [
       "array([[4, 8, 0, 2, 7, 0, 0, 5, 4, 2],\n",
       "       [5, 5, 9, 4, 7, 8, 5, 4, 8, 3],\n",
       "       [3, 1, 8, 9, 7, 6, 3, 1, 5, 7],\n",
       "       [1, 9, 1, 8, 6, 7, 7, 7, 1, 8],\n",
       "       [7, 0, 0, 2, 2, 1, 4, 7, 9, 0],\n",
       "       [0, 0, 2, 9, 5, 0, 5, 6, 3, 5],\n",
       "       [6, 7, 8, 2, 3, 2, 4, 2, 5, 2],\n",
       "       [8, 5, 2, 4, 6, 1, 0, 7, 3, 2],\n",
       "       [6, 0, 1, 4, 9, 7, 6, 1, 3, 7],\n",
       "       [2, 6, 5, 3, 6, 9, 5, 7, 1, 0]])"
      ]
     },
     "execution_count": 56,
     "metadata": {},
     "output_type": "execute_result"
    }
   ],
   "source": [
    "ans[inds].reshape(10, 10)"
   ]
  },
  {
   "cell_type": "code",
   "execution_count": 57,
   "metadata": {},
   "outputs": [
    {
     "data": {
      "text/plain": [
       "array([[  4,   1, 117,   9,  77,   0,   0,  14, 147, 112],\n",
       "       [ 14,  49,  11,   4,   6,   1,  32,   4, 167, 176],\n",
       "       [  3,   1,   1, 207,   6,   1, 296,   1,  10,   6],\n",
       "       [  1,  56,   1,   1,   1,  77,   6,   6,   1,  55],\n",
       "       [  6,   0,   0,   9,   9,   1,   4,   6,  11,   0],\n",
       "       [  0,   0,   9,  11,  14,   0,  14,   1,   3, 304],\n",
       "       [  1, 272,   1, 106,   3,   9,   4,   9,  10,   9],\n",
       "       [ 73,  10,  87,   4,   1,   1,   0,   6,   3,   9],\n",
       "       [  1,   0,   1,   4, 109,   6,   1,   1,   3,   6],\n",
       "       [  9,   1,  14,   3,   1,  11,  10,   6,   1,   0]])"
      ]
     },
     "execution_count": 57,
     "metadata": {},
     "output_type": "execute_result"
    }
   ],
   "source": [
    "labels[inds].reshape(10, 10)"
   ]
  },
  {
   "cell_type": "code",
   "execution_count": 58,
   "metadata": {
    "collapsed": true
   },
   "outputs": [],
   "source": [
    "outlets = np.where(labels == -1)[0]"
   ]
  },
  {
   "cell_type": "code",
   "execution_count": 59,
   "metadata": {},
   "outputs": [
    {
     "data": {
      "text/plain": [
       "0"
      ]
     },
     "execution_count": 59,
     "metadata": {},
     "output_type": "execute_result"
    }
   ],
   "source": [
    "len(outlets)"
   ]
  },
  {
   "cell_type": "markdown",
   "metadata": {},
   "source": [
    "А тут выбросов вообще нет"
   ]
  },
  {
   "cell_type": "markdown",
   "metadata": {},
   "source": [
    "## Уменьшение палитры изображения"
   ]
  },
  {
   "cell_type": "markdown",
   "metadata": {},
   "source": [
    "![](images.jpg)"
   ]
  },
  {
   "cell_type": "code",
   "execution_count": null,
   "metadata": {
    "collapsed": true
   },
   "outputs": [],
   "source": []
  },
  {
   "cell_type": "code",
   "execution_count": null,
   "metadata": {
    "collapsed": true
   },
   "outputs": [],
   "source": []
  }
 ],
 "metadata": {
  "anaconda-cloud": {},
  "kernelspec": {
   "display_name": "Python 3",
   "language": "python",
   "name": "python3"
  },
  "language_info": {
   "codemirror_mode": {
    "name": "ipython",
    "version": 3
   },
   "file_extension": ".py",
   "mimetype": "text/x-python",
   "name": "python",
   "nbconvert_exporter": "python",
   "pygments_lexer": "ipython3",
   "version": "3.5.3"
  }
 },
 "nbformat": 4,
 "nbformat_minor": 1
}
